{
 "cells": [
  {
   "cell_type": "markdown",
   "id": "29e088a5",
   "metadata": {},
   "source": [
    "Imports"
   ]
  },
  {
   "cell_type": "code",
   "execution_count": 77,
   "id": "0c5c917e",
   "metadata": {},
   "outputs": [],
   "source": [
    "#Imports\n",
    "import pandas as pd"
   ]
  },
  {
   "cell_type": "markdown",
   "id": "31062f7c",
   "metadata": {},
   "source": [
    "Fetching Data"
   ]
  },
  {
   "cell_type": "code",
   "execution_count": 83,
   "id": "271a16b5",
   "metadata": {},
   "outputs": [],
   "source": [
    "\n",
    "\n",
    "# URL of the CSV files\n",
    "url = \"https://raw.githubusercontent.com/vaastav/Fantasy-Premier-League/refs/heads/master/data/2025-26/cleaned_players.csv\"\n",
    "teams = \"https://raw.githubusercontent.com/vaastav/Fantasy-Premier-League/refs/heads/master/data/2025-26/teams.csv\"\n",
    "players = \"https://raw.githubusercontent.com/vaastav/Fantasy-Premier-League/refs/heads/master/data/2025-26/players_raw.csv\"\n",
    "\n",
    "# Read the CSV file into a pandas DataFrame\n",
    "df = pd.read_csv(url)\n",
    "teams_df = pd.read_csv(teams)\n",
    "players_df = pd.read_csv(players)\n",
    "# print(df)"
   ]
  },
  {
   "cell_type": "code",
   "execution_count": 84,
   "id": "6a09fb77",
   "metadata": {},
   "outputs": [],
   "source": [
    "#Importing to CSV file\n",
    "df.to_csv('gw.csv', index=True)\n",
    "teams_df.to_csv('teams.csv', index=True)\n",
    "players_df.to_csv('players.csv', index=True)\n",
    "#test\n",
    "# df.info()\n"
   ]
  },
  {
   "cell_type": "markdown",
   "id": "22636ec1",
   "metadata": {},
   "source": [
    "Misc"
   ]
  },
  {
   "cell_type": "code",
   "execution_count": 80,
   "id": "7160c359",
   "metadata": {},
   "outputs": [
    {
     "name": "stdout",
     "output_type": "stream",
     "text": [
      "            second_name  total_points  minutes  points_per_90\n",
      "472             Haaland            46      413      10.024213\n",
      "620              Isidor            25      235       9.574468\n",
      "7                Timber            35      341       9.237537\n",
      "6             Calafiori            35      381       8.267717\n",
      "134             Semenyo            41      450       8.200000\n",
      "244            Chalobah            38      428       7.990654\n",
      "439             Ekitiké            32      365       7.890411\n",
      "648             Johnson            20      237       7.594937\n",
      "665          de Andrade            29      347       7.521614\n",
      "266  Junqueira de Jesus            35      420       7.500000\n",
      "124        Senesi Barón            37      450       7.400000\n",
      "279               Guéhi            36      450       7.200000\n",
      "159            Ouattara            17      215       7.116279\n",
      "94              Anthony            34      442       6.923077\n",
      "430         Gravenberch            27      360       6.750000\n"
     ]
    }
   ],
   "source": [
    "\n",
    "\n",
    "# Who are the top 5 players by total points?\n",
    "df.sort_values(by='total_points', ascending=False)    \n",
    "\n",
    "# Which player has the highest average points per game?\n",
    "\n",
    "# Calculate points per 90 minutes (standardized measure)\n",
    "df[\"points_per_90\"] = df[\"total_points\"] / (df[\"minutes\"] / 90)\n",
    "\n",
    "# Handle division by zero (players who never played)\n",
    "df[\"points_per_90\"] = df[\"points_per_90\"].fillna(0)\n",
    "\n",
    "# See top 10 players by points per 90\n",
    "top_pp90 = df[[\"second_name\", \"total_points\", \"minutes\", \"points_per_90\"]] \\\n",
    "    .sort_values(\"points_per_90\", ascending=False) \\\n",
    "    .head(15)\n",
    "\n",
    "# Only keep players who have played at least 180 minutes (~2 full matches)\n",
    "filtered_df = df[df[\"minutes\"] >= 180].copy()\n",
    "\n",
    "# Calculate points per 90 for this filtered set\n",
    "filtered_df[\"points_per_90\"] = filtered_df[\"total_points\"] / (filtered_df[\"minutes\"] / 90)\n",
    "filtered_df[\"points_per_90\"] = filtered_df[\"points_per_90\"].fillna(0)\n",
    "\n",
    "# Get top 10 players by points per 90\n",
    "top_pp90 = filtered_df[[\"second_name\", \"total_points\", \"minutes\", \"points_per_90\"]] \\\n",
    "    .sort_values(\"points_per_90\", ascending=False) \\\n",
    "    .head(15)\n",
    "\n",
    "print(top_pp90)\n",
    "\n",
    "\n"
   ]
  },
  {
   "cell_type": "code",
   "execution_count": null,
   "id": "a21ac864",
   "metadata": {},
   "outputs": [],
   "source": [
    "# Points per Million\n"
   ]
  },
  {
   "cell_type": "markdown",
   "id": "4f590cc7",
   "metadata": {},
   "source": [
    "Cleaning The Data\n"
   ]
  },
  {
   "cell_type": "code",
   "execution_count": 82,
   "id": "8cbf133a",
   "metadata": {},
   "outputs": [],
   "source": [
    "df.rename(columns={'element_type': 'position'}, inplace=True)"
   ]
  }
 ],
 "metadata": {
  "kernelspec": {
   "display_name": "Python 3",
   "language": "python",
   "name": "python3"
  },
  "language_info": {
   "codemirror_mode": {
    "name": "ipython",
    "version": 3
   },
   "file_extension": ".py",
   "mimetype": "text/x-python",
   "name": "python",
   "nbconvert_exporter": "python",
   "pygments_lexer": "ipython3",
   "version": "3.13.6"
  }
 },
 "nbformat": 4,
 "nbformat_minor": 5
}
