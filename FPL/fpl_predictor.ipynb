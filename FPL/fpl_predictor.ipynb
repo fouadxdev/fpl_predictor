{
 "cells": [
  {
   "cell_type": "markdown",
   "id": "29e088a5",
   "metadata": {},
   "source": [
    "Imports"
   ]
  },
  {
   "cell_type": "code",
   "execution_count": null,
   "id": "0c5c917e",
   "metadata": {},
   "outputs": [],
   "source": [
    "#Imports\n",
    "import pandas as pd"
   ]
  },
  {
   "cell_type": "markdown",
   "id": "31062f7c",
   "metadata": {},
   "source": [
    "Fetching"
   ]
  },
  {
   "cell_type": "code",
   "execution_count": null,
   "id": "271a16b5",
   "metadata": {},
   "outputs": [],
   "source": [
    "\n",
    "\n",
    "# URL of the CSV file \n",
    "url = \"https://raw.githubusercontent.com/vaastav/Fantasy-Premier-League/refs/heads/master/data/2025-26/cleaned_players.csv\"\n",
    "\n",
    "# Read the CSV file into a pandas DataFrame\n",
    "df = pd.read_csv(url)\n",
    "# print(df)"
   ]
  },
  {
   "cell_type": "code",
   "execution_count": null,
   "id": "6a09fb77",
   "metadata": {},
   "outputs": [],
   "source": [
    "#Importing to CSV file\n",
    "df.to_csv('gw.csv', index=True)\n",
    "#test\n",
    "# df.info()\n"
   ]
  },
  {
   "cell_type": "markdown",
   "id": "22636ec1",
   "metadata": {},
   "source": [
    "Misc"
   ]
  },
  {
   "cell_type": "code",
   "execution_count": null,
   "id": "7160c359",
   "metadata": {},
   "outputs": [],
   "source": [
    "# Who are the top 5 players by total points?\n",
    "df.sort_values(by='total_points', ascending=False)    \n",
    "\n",
    "# Which player has the highest average points per game?\n",
    "\n",
    "# Calculate points per 90 minutes (standardized measure)\n",
    "df[\"points_per_90\"] = df[\"total_points\"] / (df[\"minutes\"] / 90)\n",
    "\n",
    "# Handle division by zero (players who never played)\n",
    "df[\"points_per_90\"] = df[\"points_per_90\"].fillna(0)\n",
    "\n",
    "# See top 10 players by points per 90\n",
    "top_pp90 = df[[\"second_name\", \"total_points\", \"minutes\", \"points_per_90\"]] \\\n",
    "    .sort_values(\"points_per_90\", ascending=False) \\\n",
    "    .head(15)\n",
    "\n",
    "# Only keep players who have played at least 180 minutes (~2 full matches)\n",
    "filtered_df = df[df[\"minutes\"] >= 180].copy()\n",
    "\n",
    "# Calculate points per 90 for this filtered set\n",
    "filtered_df[\"points_per_90\"] = filtered_df[\"total_points\"] / (filtered_df[\"minutes\"] / 90)\n",
    "filtered_df[\"points_per_90\"] = filtered_df[\"points_per_90\"].fillna(0)\n",
    "\n",
    "# Get top 10 players by points per 90\n",
    "top_pp90 = filtered_df[[\"second_name\", \"total_points\", \"position\", \"minutes\", \"points_per_90\"]] \\\n",
    "    .sort_values(\"points_per_90\", ascending=False) \\\n",
    "    .head(15)\n",
    "\n",
    "print(top_pp90)\n",
    "\n",
    "\n"
   ]
  },
  {
   "cell_type": "code",
   "execution_count": null,
   "id": "a21ac864",
   "metadata": {},
   "outputs": [
    {
     "name": "stdout",
     "output_type": "stream",
     "text": [
      "0      0.472727\n",
      "1      0.000000\n",
      "2      0.000000\n",
      "3      0.000000\n",
      "4      0.409836\n",
      "         ...   \n",
      "736    0.115385\n",
      "737    0.133333\n",
      "738    0.088889\n",
      "739    0.177778\n",
      "740    0.072727\n",
      "Length: 741, dtype: float64\n"
     ]
    }
   ],
   "source": [
    "# Points per Million\n"
   ]
  },
  {
   "cell_type": "markdown",
   "id": "4f590cc7",
   "metadata": {},
   "source": [
    "Cleaning The Data\n"
   ]
  },
  {
   "cell_type": "code",
   "execution_count": null,
   "id": "8cbf133a",
   "metadata": {},
   "outputs": [],
   "source": [
    "df.rename(columns={'element_type': 'position'}, inplace=True)"
   ]
  }
 ],
 "metadata": {
  "kernelspec": {
   "display_name": "Python 3",
   "language": "python",
   "name": "python3"
  },
  "language_info": {
   "codemirror_mode": {
    "name": "ipython",
    "version": 3
   },
   "file_extension": ".py",
   "mimetype": "text/x-python",
   "name": "python",
   "nbconvert_exporter": "python",
   "pygments_lexer": "ipython3",
   "version": "3.13.6"
  }
 },
 "nbformat": 4,
 "nbformat_minor": 5
}
